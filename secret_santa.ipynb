{
 "cells": [
  {
   "cell_type": "code",
   "execution_count": 2,
   "metadata": {},
   "outputs": [],
   "source": [
    "import numpy as np"
   ]
  },
  {
   "cell_type": "code",
   "execution_count": 3,
   "metadata": {},
   "outputs": [
    {
     "name": "stdout",
     "output_type": "stream",
     "text": [
      "Nick <--> George\n",
      "Epstein did not kill himself <--> Alex\n",
      "Zack <--> Georgia\n",
      "Cyborg <--> Kevin\n"
     ]
    }
   ],
   "source": [
    "\n",
    "peps_list = ['Nick','George','Alex','Kevin','Georgia',\n",
    "            'Zack','Cyborg','Epstein did not kill himself']\n",
    "\n",
    "def secret_santa(victims):\n",
    "    \n",
    "    \"\"\" Prints out a secret santa list with randomly paired\n",
    "    names (list items).\n",
    "    \n",
    "    *If the total number of items in the list is odd, \n",
    "    one of the names will be silently left out. \n",
    "    \n",
    "    \"\"\"\n",
    "\n",
    "    output_list = []\n",
    "    midpoint = int(len(victims)/2)\n",
    "    rand_lst = np.random.choice(victims,\n",
    "                                replace=False,\n",
    "                             size=len(victims))\n",
    "                             \n",
    "    secret_santa_list= zip(rand_lst[:midpoint],rand_lst[midpoint:])\n",
    "        \n",
    "    for i in list(secret_santa_list):\n",
    "        output_list.append(i[0]+\" <--> \"+i[1])\n",
    "            \n",
    "            \n",
    "    for i in output_list:\n",
    "        print(i)\n",
    "            \n",
    "        \n",
    "secret_santa(peps_list)"
   ]
  },
  {
   "cell_type": "code",
   "execution_count": 4,
   "metadata": {},
   "outputs": [
    {
     "name": "stdout",
     "output_type": "stream",
     "text": [
      "Georgia --> Kevin\n",
      "Kevin --> Zack\n",
      "Zack --> George\n",
      "George --> Nick\n",
      "Nick --> Epstein did not kill himself\n",
      "Epstein did not kill himself --> Alex\n",
      "Alex --> Cyborg\n",
      "Cyborg --> Georgia\n"
     ]
    }
   ],
   "source": [
    "def secret_santa(victims):\n",
    "    \n",
    "    \"\"\"Takes a list of names, shuffles it randomly\n",
    "    and then prints a secret santa list where the last \n",
    "    person from the shuffled list has to prpovide \n",
    "    a gift for the first person.\"\"\"\n",
    "    \n",
    "    secret_santa = list(np.random.choice(victims,replace=False,size=len(victims)))\n",
    "    counter = 0\n",
    "\n",
    "    while counter < len(secret_santa)-1:   \n",
    "        print(secret_santa[counter],'-->',secret_santa[counter+1])\n",
    "        counter+=1\n",
    "    else:\n",
    "        print(secret_santa[-1],'-->',secret_santa[0])\n",
    "        \n",
    "        \n",
    "secret_santa(peps_list)        "
   ]
  }
 ],
 "metadata": {
  "kernelspec": {
   "display_name": "Python 3",
   "language": "python",
   "name": "python3"
  },
  "language_info": {
   "codemirror_mode": {
    "name": "ipython",
    "version": 3
   },
   "file_extension": ".py",
   "mimetype": "text/x-python",
   "name": "python",
   "nbconvert_exporter": "python",
   "pygments_lexer": "ipython3",
   "version": "3.7.5"
  }
 },
 "nbformat": 4,
 "nbformat_minor": 4
}
