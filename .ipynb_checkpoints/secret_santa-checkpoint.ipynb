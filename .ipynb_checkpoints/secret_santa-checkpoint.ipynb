{
 "cells": [
  {
   "cell_type": "code",
   "execution_count": 4,
   "metadata": {},
   "outputs": [],
   "source": [
    "import numpy as np"
   ]
  },
  {
   "cell_type": "code",
   "execution_count": 5,
   "metadata": {},
   "outputs": [
    {
     "name": "stdout",
     "output_type": "stream",
     "text": [
      "Zack <--> Cyborg\n",
      "Georgia <--> George\n",
      "Alex <--> Epstein did not kill himself\n",
      "Nick <--> Kevin\n"
     ]
    }
   ],
   "source": [
    "\n",
    "peps_list = ['Nick','George','Alex','Kevin','Georgia',\n",
    "            'Zack','Cyborg','Epstein did not kill himself']\n",
    "\n",
    "def secret_santa(victims):\n",
    "    \n",
    "    \"\"\" Prints out a secret santa list with randomly paired\n",
    "    names (list items).\n",
    "    \n",
    "    *If the total number of items in the list is odd, \n",
    "    one of the names will be silently felt out. \n",
    "    \n",
    "    \"\"\"\n",
    "\n",
    "    output_list = []\n",
    "    midpoint = int(len(victims)/2)\n",
    "    rand_lst = np.random.choice(victims,\n",
    "                                replace=False,\n",
    "                             size=len(victims))\n",
    "                             \n",
    "    secret_santa_list= zip(rand_lst[:midpoint],rand_lst[midpoint:])\n",
    "        \n",
    "    for i in list(secret_santa_list):\n",
    "        output_list.append(i[0]+\" <--> \"+i[1])\n",
    "            \n",
    "            \n",
    "    for i in output_list:\n",
    "        print(i)\n",
    "            \n",
    "        \n",
    "secret_santa(peps_list)"
   ]
  },
  {
   "cell_type": "code",
   "execution_count": null,
   "metadata": {},
   "outputs": [],
   "source": []
  }
 ],
 "metadata": {
  "kernelspec": {
   "display_name": "Python 3",
   "language": "python",
   "name": "python3"
  },
  "language_info": {
   "codemirror_mode": {
    "name": "ipython",
    "version": 3
   },
   "file_extension": ".py",
   "mimetype": "text/x-python",
   "name": "python",
   "nbconvert_exporter": "python",
   "pygments_lexer": "ipython3",
   "version": "3.7.5"
  }
 },
 "nbformat": 4,
 "nbformat_minor": 4
}
